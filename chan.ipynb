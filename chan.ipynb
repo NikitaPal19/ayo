{
 "cells": [
  {
   "cell_type": "code",
   "execution_count": 1,
   "id": "fca0e6b6",
   "metadata": {},
   "outputs": [
    {
     "name": "stdout",
     "output_type": "stream",
     "text": [
      "Pune is great\n"
     ]
    }
   ],
   "source": [
    "print(\"Pune is great\")"
   ]
  },
  {
   "cell_type": "code",
   "execution_count": null,
   "id": "7cfb2d27",
   "metadata": {},
   "outputs": [],
   "source": []
  }
 ],
 "metadata": {
  "kernelspec": {
   "display_name": "Python 3",
   "language": "python",
   "name": "python3"
  },
  "language_info": {
   "codemirror_mode": {
    "name": "ipython",
    "version": 3
   },
   "file_extension": ".py",
   "mimetype": "text/x-python",
   "name": "python",
   "nbconvert_exporter": "python",
   "pygments_lexer": "ipython3",
   "version": "3.9.13"
  }
 },
 "nbformat": 4,
 "nbformat_minor": 5
}
